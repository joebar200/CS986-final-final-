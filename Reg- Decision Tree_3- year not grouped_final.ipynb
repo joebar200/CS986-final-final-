{
 "cells": [
  {
   "cell_type": "code",
   "execution_count": 1,
   "metadata": {},
   "outputs": [],
   "source": [
    "import sklearn\n",
    "import numpy as np\n",
    "import pandas as pd\n",
    "from sklearn.preprocessing import OneHotEncoder\n",
    "import matplotlib.pyplot as plt"
   ]
  },
  {
   "cell_type": "code",
   "execution_count": 2,
   "metadata": {},
   "outputs": [],
   "source": [
    "train= pd.read_csv(\"C:/Users/happy/Desktop/Strathclyde academic/Sem 2/CS986/Assignment/Score/CS98XRegressionTrain.csv\",low_memory=False)\n",
    "test= pd.read_csv(\"C:/Users/happy/Desktop/Strathclyde academic/Sem 2/CS986/Assignment/Score/CS98XRegressionTest.csv\",low_memory=False)\n",
    "spot_1950 = pd.read_csv(\"C:/Users/happy/Desktop/Strathclyde academic/Sem 2/CS986/Assignment/Data/1950.csv\",low_memory=False)\n",
    "spot_1960 = pd.read_csv(\"C:/Users/happy/Desktop/Strathclyde academic/Sem 2/CS986/Assignment/Data/1960.csv\",low_memory=False)\n",
    "spot_1970 = pd.read_csv(\"C:/Users/happy/Desktop/Strathclyde academic/Sem 2/CS986/Assignment/Data/1970.csv\",low_memory=False)\n",
    "spot_1980 = pd.read_csv(\"C:/Users/happy/Desktop/Strathclyde academic/Sem 2/CS986/Assignment/Data/1980.csv\",low_memory=False)\n",
    "spot_1990 = pd.read_csv(\"C:/Users/happy/Desktop/Strathclyde academic/Sem 2/CS986/Assignment/Data/1990.csv\",low_memory=False)\n",
    "spot_2000 = pd.read_csv(\"C:/Users/happy/Desktop/Strathclyde academic/Sem 2/CS986/Assignment/Data/2000.csv\",low_memory=False)\n",
    "spot_2010 = pd.read_csv(\"C:/Users/happy/Desktop/Strathclyde academic/Sem 2/CS986/Assignment/Data/2010.csv\",low_memory=False)"
   ]
  },
  {
   "cell_type": "code",
   "execution_count": 3,
   "metadata": {},
   "outputs": [],
   "source": [
    "# Combine train and test set for correlation calculation\n",
    "frames = [spot_1950, spot_1960, spot_1970, spot_1980, spot_1990, spot_2000, spot_2010]\n",
    "combine_spot = pd.concat(frames)"
   ]
  },
  {
   "cell_type": "code",
   "execution_count": 4,
   "metadata": {},
   "outputs": [],
   "source": [
    "combine_spot = combine_spot.drop('Number', axis =1)"
   ]
  },
  {
   "cell_type": "code",
   "execution_count": 5,
   "metadata": {},
   "outputs": [
    {
     "data": {
      "text/html": [
       "<style  type=\"text/css\" >\n",
       "    #T_51264a15_746b_11eb_9357_18568001074crow0_col0 {\n",
       "            background-color:  #b40426;\n",
       "            color:  #f1f1f1;\n",
       "        }    #T_51264a15_746b_11eb_9357_18568001074crow0_col1 {\n",
       "            background-color:  #6384eb;\n",
       "            color:  #000000;\n",
       "        }    #T_51264a15_746b_11eb_9357_18568001074crow0_col2 {\n",
       "            background-color:  #e1dad6;\n",
       "            color:  #000000;\n",
       "        }    #T_51264a15_746b_11eb_9357_18568001074crow0_col3 {\n",
       "            background-color:  #d6dce4;\n",
       "            color:  #000000;\n",
       "        }    #T_51264a15_746b_11eb_9357_18568001074crow0_col4 {\n",
       "            background-color:  #f3c7b1;\n",
       "            color:  #000000;\n",
       "        }    #T_51264a15_746b_11eb_9357_18568001074crow0_col5 {\n",
       "            background-color:  #4e68d8;\n",
       "            color:  #000000;\n",
       "        }    #T_51264a15_746b_11eb_9357_18568001074crow0_col6 {\n",
       "            background-color:  #5673e0;\n",
       "            color:  #000000;\n",
       "        }    #T_51264a15_746b_11eb_9357_18568001074crow0_col7 {\n",
       "            background-color:  #5a78e4;\n",
       "            color:  #000000;\n",
       "        }    #T_51264a15_746b_11eb_9357_18568001074crow0_col8 {\n",
       "            background-color:  #8fb1fe;\n",
       "            color:  #000000;\n",
       "        }    #T_51264a15_746b_11eb_9357_18568001074crow0_col9 {\n",
       "            background-color:  #a2c1ff;\n",
       "            color:  #000000;\n",
       "        }    #T_51264a15_746b_11eb_9357_18568001074crow0_col10 {\n",
       "            background-color:  #c7d7f0;\n",
       "            color:  #000000;\n",
       "        }    #T_51264a15_746b_11eb_9357_18568001074crow1_col0 {\n",
       "            background-color:  #7396f5;\n",
       "            color:  #000000;\n",
       "        }    #T_51264a15_746b_11eb_9357_18568001074crow1_col1 {\n",
       "            background-color:  #b40426;\n",
       "            color:  #f1f1f1;\n",
       "        }    #T_51264a15_746b_11eb_9357_18568001074crow1_col2 {\n",
       "            background-color:  #dedcdb;\n",
       "            color:  #000000;\n",
       "        }    #T_51264a15_746b_11eb_9357_18568001074crow1_col3 {\n",
       "            background-color:  #88abfd;\n",
       "            color:  #000000;\n",
       "        }    #T_51264a15_746b_11eb_9357_18568001074crow1_col4 {\n",
       "            background-color:  #b5cdfa;\n",
       "            color:  #000000;\n",
       "        }    #T_51264a15_746b_11eb_9357_18568001074crow1_col5 {\n",
       "            background-color:  #516ddb;\n",
       "            color:  #000000;\n",
       "        }    #T_51264a15_746b_11eb_9357_18568001074crow1_col6 {\n",
       "            background-color:  #88abfd;\n",
       "            color:  #000000;\n",
       "        }    #T_51264a15_746b_11eb_9357_18568001074crow1_col7 {\n",
       "            background-color:  #81a4fb;\n",
       "            color:  #000000;\n",
       "        }    #T_51264a15_746b_11eb_9357_18568001074crow1_col8 {\n",
       "            background-color:  #9dbdff;\n",
       "            color:  #000000;\n",
       "        }    #T_51264a15_746b_11eb_9357_18568001074crow1_col9 {\n",
       "            background-color:  #7a9df8;\n",
       "            color:  #000000;\n",
       "        }    #T_51264a15_746b_11eb_9357_18568001074crow1_col10 {\n",
       "            background-color:  #b2ccfb;\n",
       "            color:  #000000;\n",
       "        }    #T_51264a15_746b_11eb_9357_18568001074crow2_col0 {\n",
       "            background-color:  #b1cbfc;\n",
       "            color:  #000000;\n",
       "        }    #T_51264a15_746b_11eb_9357_18568001074crow2_col1 {\n",
       "            background-color:  #9fbfff;\n",
       "            color:  #000000;\n",
       "        }    #T_51264a15_746b_11eb_9357_18568001074crow2_col2 {\n",
       "            background-color:  #b40426;\n",
       "            color:  #f1f1f1;\n",
       "        }    #T_51264a15_746b_11eb_9357_18568001074crow2_col3 {\n",
       "            background-color:  #e1dad6;\n",
       "            color:  #000000;\n",
       "        }    #T_51264a15_746b_11eb_9357_18568001074crow2_col4 {\n",
       "            background-color:  #ed8366;\n",
       "            color:  #000000;\n",
       "        }    #T_51264a15_746b_11eb_9357_18568001074crow2_col5 {\n",
       "            background-color:  #779af7;\n",
       "            color:  #000000;\n",
       "        }    #T_51264a15_746b_11eb_9357_18568001074crow2_col6 {\n",
       "            background-color:  #dddcdc;\n",
       "            color:  #000000;\n",
       "        }    #T_51264a15_746b_11eb_9357_18568001074crow2_col7 {\n",
       "            background-color:  #9bbcff;\n",
       "            color:  #000000;\n",
       "        }    #T_51264a15_746b_11eb_9357_18568001074crow2_col8 {\n",
       "            background-color:  #3b4cc0;\n",
       "            color:  #f1f1f1;\n",
       "        }    #T_51264a15_746b_11eb_9357_18568001074crow2_col9 {\n",
       "            background-color:  #9ebeff;\n",
       "            color:  #000000;\n",
       "        }    #T_51264a15_746b_11eb_9357_18568001074crow2_col10 {\n",
       "            background-color:  #dcdddd;\n",
       "            color:  #000000;\n",
       "        }    #T_51264a15_746b_11eb_9357_18568001074crow3_col0 {\n",
       "            background-color:  #c5d6f2;\n",
       "            color:  #000000;\n",
       "        }    #T_51264a15_746b_11eb_9357_18568001074crow3_col1 {\n",
       "            background-color:  #5977e3;\n",
       "            color:  #000000;\n",
       "        }    #T_51264a15_746b_11eb_9357_18568001074crow3_col2 {\n",
       "            background-color:  #f2cbb7;\n",
       "            color:  #000000;\n",
       "        }    #T_51264a15_746b_11eb_9357_18568001074crow3_col3 {\n",
       "            background-color:  #b40426;\n",
       "            color:  #f1f1f1;\n",
       "        }    #T_51264a15_746b_11eb_9357_18568001074crow3_col4 {\n",
       "            background-color:  #e5d8d1;\n",
       "            color:  #000000;\n",
       "        }    #T_51264a15_746b_11eb_9357_18568001074crow3_col5 {\n",
       "            background-color:  #3b4cc0;\n",
       "            color:  #f1f1f1;\n",
       "        }    #T_51264a15_746b_11eb_9357_18568001074crow3_col6 {\n",
       "            background-color:  #e8d6cc;\n",
       "            color:  #000000;\n",
       "        }    #T_51264a15_746b_11eb_9357_18568001074crow3_col7 {\n",
       "            background-color:  #85a8fc;\n",
       "            color:  #000000;\n",
       "        }    #T_51264a15_746b_11eb_9357_18568001074crow3_col8 {\n",
       "            background-color:  #7093f3;\n",
       "            color:  #000000;\n",
       "        }    #T_51264a15_746b_11eb_9357_18568001074crow3_col9 {\n",
       "            background-color:  #a7c5fe;\n",
       "            color:  #000000;\n",
       "        }    #T_51264a15_746b_11eb_9357_18568001074crow3_col10 {\n",
       "            background-color:  #d8dce2;\n",
       "            color:  #000000;\n",
       "        }    #T_51264a15_746b_11eb_9357_18568001074crow4_col0 {\n",
       "            background-color:  #e5d8d1;\n",
       "            color:  #000000;\n",
       "        }    #T_51264a15_746b_11eb_9357_18568001074crow4_col1 {\n",
       "            background-color:  #7699f6;\n",
       "            color:  #000000;\n",
       "        }    #T_51264a15_746b_11eb_9357_18568001074crow4_col2 {\n",
       "            background-color:  #e97a5f;\n",
       "            color:  #000000;\n",
       "        }    #T_51264a15_746b_11eb_9357_18568001074crow4_col3 {\n",
       "            background-color:  #dadce0;\n",
       "            color:  #000000;\n",
       "        }    #T_51264a15_746b_11eb_9357_18568001074crow4_col4 {\n",
       "            background-color:  #b40426;\n",
       "            color:  #f1f1f1;\n",
       "        }    #T_51264a15_746b_11eb_9357_18568001074crow4_col5 {\n",
       "            background-color:  #6788ee;\n",
       "            color:  #000000;\n",
       "        }    #T_51264a15_746b_11eb_9357_18568001074crow4_col6 {\n",
       "            background-color:  #97b8ff;\n",
       "            color:  #000000;\n",
       "        }    #T_51264a15_746b_11eb_9357_18568001074crow4_col7 {\n",
       "            background-color:  #7ea1fa;\n",
       "            color:  #000000;\n",
       "        }    #T_51264a15_746b_11eb_9357_18568001074crow4_col8 {\n",
       "            background-color:  #5875e1;\n",
       "            color:  #000000;\n",
       "        }    #T_51264a15_746b_11eb_9357_18568001074crow4_col9 {\n",
       "            background-color:  #a5c3fe;\n",
       "            color:  #000000;\n",
       "        }    #T_51264a15_746b_11eb_9357_18568001074crow4_col10 {\n",
       "            background-color:  #ecd3c5;\n",
       "            color:  #000000;\n",
       "        }    #T_51264a15_746b_11eb_9357_18568001074crow5_col0 {\n",
       "            background-color:  #799cf8;\n",
       "            color:  #000000;\n",
       "        }    #T_51264a15_746b_11eb_9357_18568001074crow5_col1 {\n",
       "            background-color:  #6c8ff1;\n",
       "            color:  #000000;\n",
       "        }    #T_51264a15_746b_11eb_9357_18568001074crow5_col2 {\n",
       "            background-color:  #d7dce3;\n",
       "            color:  #000000;\n",
       "        }    #T_51264a15_746b_11eb_9357_18568001074crow5_col3 {\n",
       "            background-color:  #84a7fc;\n",
       "            color:  #000000;\n",
       "        }    #T_51264a15_746b_11eb_9357_18568001074crow5_col4 {\n",
       "            background-color:  #bed2f6;\n",
       "            color:  #000000;\n",
       "        }    #T_51264a15_746b_11eb_9357_18568001074crow5_col5 {\n",
       "            background-color:  #b40426;\n",
       "            color:  #f1f1f1;\n",
       "        }    #T_51264a15_746b_11eb_9357_18568001074crow5_col6 {\n",
       "            background-color:  #80a3fa;\n",
       "            color:  #000000;\n",
       "        }    #T_51264a15_746b_11eb_9357_18568001074crow5_col7 {\n",
       "            background-color:  #6384eb;\n",
       "            color:  #000000;\n",
       "        }    #T_51264a15_746b_11eb_9357_18568001074crow5_col8 {\n",
       "            background-color:  #b5cdfa;\n",
       "            color:  #000000;\n",
       "        }    #T_51264a15_746b_11eb_9357_18568001074crow5_col9 {\n",
       "            background-color:  #84a7fc;\n",
       "            color:  #000000;\n",
       "        }    #T_51264a15_746b_11eb_9357_18568001074crow5_col10 {\n",
       "            background-color:  #9abbff;\n",
       "            color:  #000000;\n",
       "        }    #T_51264a15_746b_11eb_9357_18568001074crow6_col0 {\n",
       "            background-color:  #6180e9;\n",
       "            color:  #000000;\n",
       "        }    #T_51264a15_746b_11eb_9357_18568001074crow6_col1 {\n",
       "            background-color:  #82a6fb;\n",
       "            color:  #000000;\n",
       "        }    #T_51264a15_746b_11eb_9357_18568001074crow6_col2 {\n",
       "            background-color:  #f6bfa6;\n",
       "            color:  #000000;\n",
       "        }    #T_51264a15_746b_11eb_9357_18568001074crow6_col3 {\n",
       "            background-color:  #f2c9b4;\n",
       "            color:  #000000;\n",
       "        }    #T_51264a15_746b_11eb_9357_18568001074crow6_col4 {\n",
       "            background-color:  #c9d7f0;\n",
       "            color:  #000000;\n",
       "        }    #T_51264a15_746b_11eb_9357_18568001074crow6_col5 {\n",
       "            background-color:  #6180e9;\n",
       "            color:  #000000;\n",
       "        }    #T_51264a15_746b_11eb_9357_18568001074crow6_col6 {\n",
       "            background-color:  #b40426;\n",
       "            color:  #f1f1f1;\n",
       "        }    #T_51264a15_746b_11eb_9357_18568001074crow6_col7 {\n",
       "            background-color:  #5572df;\n",
       "            color:  #000000;\n",
       "        }    #T_51264a15_746b_11eb_9357_18568001074crow6_col8 {\n",
       "            background-color:  #98b9ff;\n",
       "            color:  #000000;\n",
       "        }    #T_51264a15_746b_11eb_9357_18568001074crow6_col9 {\n",
       "            background-color:  #799cf8;\n",
       "            color:  #000000;\n",
       "        }    #T_51264a15_746b_11eb_9357_18568001074crow6_col10 {\n",
       "            background-color:  #8badfd;\n",
       "            color:  #000000;\n",
       "        }    #T_51264a15_746b_11eb_9357_18568001074crow7_col0 {\n",
       "            background-color:  #5e7de7;\n",
       "            color:  #000000;\n",
       "        }    #T_51264a15_746b_11eb_9357_18568001074crow7_col1 {\n",
       "            background-color:  #7597f6;\n",
       "            color:  #000000;\n",
       "        }    #T_51264a15_746b_11eb_9357_18568001074crow7_col2 {\n",
       "            background-color:  #d7dce3;\n",
       "            color:  #000000;\n",
       "        }    #T_51264a15_746b_11eb_9357_18568001074crow7_col3 {\n",
       "            background-color:  #a3c2fe;\n",
       "            color:  #000000;\n",
       "        }    #T_51264a15_746b_11eb_9357_18568001074crow7_col4 {\n",
       "            background-color:  #b1cbfc;\n",
       "            color:  #000000;\n",
       "        }    #T_51264a15_746b_11eb_9357_18568001074crow7_col5 {\n",
       "            background-color:  #3b4cc0;\n",
       "            color:  #f1f1f1;\n",
       "        }    #T_51264a15_746b_11eb_9357_18568001074crow7_col6 {\n",
       "            background-color:  #4e68d8;\n",
       "            color:  #000000;\n",
       "        }    #T_51264a15_746b_11eb_9357_18568001074crow7_col7 {\n",
       "            background-color:  #b40426;\n",
       "            color:  #f1f1f1;\n",
       "        }    #T_51264a15_746b_11eb_9357_18568001074crow7_col8 {\n",
       "            background-color:  #92b4fe;\n",
       "            color:  #000000;\n",
       "        }    #T_51264a15_746b_11eb_9357_18568001074crow7_col9 {\n",
       "            background-color:  #7699f6;\n",
       "            color:  #000000;\n",
       "        }    #T_51264a15_746b_11eb_9357_18568001074crow7_col10 {\n",
       "            background-color:  #dedcdb;\n",
       "            color:  #000000;\n",
       "        }    #T_51264a15_746b_11eb_9357_18568001074crow8_col0 {\n",
       "            background-color:  #3b4cc0;\n",
       "            color:  #f1f1f1;\n",
       "        }    #T_51264a15_746b_11eb_9357_18568001074crow8_col1 {\n",
       "            background-color:  #3b4cc0;\n",
       "            color:  #f1f1f1;\n",
       "        }    #T_51264a15_746b_11eb_9357_18568001074crow8_col2 {\n",
       "            background-color:  #3b4cc0;\n",
       "            color:  #f1f1f1;\n",
       "        }    #T_51264a15_746b_11eb_9357_18568001074crow8_col3 {\n",
       "            background-color:  #3b4cc0;\n",
       "            color:  #f1f1f1;\n",
       "        }    #T_51264a15_746b_11eb_9357_18568001074crow8_col4 {\n",
       "            background-color:  #3b4cc0;\n",
       "            color:  #f1f1f1;\n",
       "        }    #T_51264a15_746b_11eb_9357_18568001074crow8_col5 {\n",
       "            background-color:  #3e51c5;\n",
       "            color:  #f1f1f1;\n",
       "        }    #T_51264a15_746b_11eb_9357_18568001074crow8_col6 {\n",
       "            background-color:  #3b4cc0;\n",
       "            color:  #f1f1f1;\n",
       "        }    #T_51264a15_746b_11eb_9357_18568001074crow8_col7 {\n",
       "            background-color:  #3b4cc0;\n",
       "            color:  #f1f1f1;\n",
       "        }    #T_51264a15_746b_11eb_9357_18568001074crow8_col8 {\n",
       "            background-color:  #b40426;\n",
       "            color:  #f1f1f1;\n",
       "        }    #T_51264a15_746b_11eb_9357_18568001074crow8_col9 {\n",
       "            background-color:  #3b4cc0;\n",
       "            color:  #f1f1f1;\n",
       "        }    #T_51264a15_746b_11eb_9357_18568001074crow8_col10 {\n",
       "            background-color:  #3b4cc0;\n",
       "            color:  #f1f1f1;\n",
       "        }    #T_51264a15_746b_11eb_9357_18568001074crow9_col0 {\n",
       "            background-color:  #afcafc;\n",
       "            color:  #000000;\n",
       "        }    #T_51264a15_746b_11eb_9357_18568001074crow9_col1 {\n",
       "            background-color:  #7b9ff9;\n",
       "            color:  #000000;\n",
       "        }    #T_51264a15_746b_11eb_9357_18568001074crow9_col2 {\n",
       "            background-color:  #dedcdb;\n",
       "            color:  #000000;\n",
       "        }    #T_51264a15_746b_11eb_9357_18568001074crow9_col3 {\n",
       "            background-color:  #c9d7f0;\n",
       "            color:  #000000;\n",
       "        }    #T_51264a15_746b_11eb_9357_18568001074crow9_col4 {\n",
       "            background-color:  #d4dbe6;\n",
       "            color:  #000000;\n",
       "        }    #T_51264a15_746b_11eb_9357_18568001074crow9_col5 {\n",
       "            background-color:  #6a8bef;\n",
       "            color:  #000000;\n",
       "        }    #T_51264a15_746b_11eb_9357_18568001074crow9_col6 {\n",
       "            background-color:  #7ea1fa;\n",
       "            color:  #000000;\n",
       "        }    #T_51264a15_746b_11eb_9357_18568001074crow9_col7 {\n",
       "            background-color:  #82a6fb;\n",
       "            color:  #000000;\n",
       "        }    #T_51264a15_746b_11eb_9357_18568001074crow9_col8 {\n",
       "            background-color:  #9dbdff;\n",
       "            color:  #000000;\n",
       "        }    #T_51264a15_746b_11eb_9357_18568001074crow9_col9 {\n",
       "            background-color:  #b40426;\n",
       "            color:  #f1f1f1;\n",
       "        }    #T_51264a15_746b_11eb_9357_18568001074crow9_col10 {\n",
       "            background-color:  #cedaeb;\n",
       "            color:  #000000;\n",
       "        }    #T_51264a15_746b_11eb_9357_18568001074crow10_col0 {\n",
       "            background-color:  #a6c4fe;\n",
       "            color:  #000000;\n",
       "        }    #T_51264a15_746b_11eb_9357_18568001074crow10_col1 {\n",
       "            background-color:  #7da0f9;\n",
       "            color:  #000000;\n",
       "        }    #T_51264a15_746b_11eb_9357_18568001074crow10_col2 {\n",
       "            background-color:  #ecd3c5;\n",
       "            color:  #000000;\n",
       "        }    #T_51264a15_746b_11eb_9357_18568001074crow10_col3 {\n",
       "            background-color:  #d1dae9;\n",
       "            color:  #000000;\n",
       "        }    #T_51264a15_746b_11eb_9357_18568001074crow10_col4 {\n",
       "            background-color:  #eed0c0;\n",
       "            color:  #000000;\n",
       "        }    #T_51264a15_746b_11eb_9357_18568001074crow10_col5 {\n",
       "            background-color:  #4358cb;\n",
       "            color:  #f1f1f1;\n",
       "        }    #T_51264a15_746b_11eb_9357_18568001074crow10_col6 {\n",
       "            background-color:  #536edd;\n",
       "            color:  #000000;\n",
       "        }    #T_51264a15_746b_11eb_9357_18568001074crow10_col7 {\n",
       "            background-color:  #c4d5f3;\n",
       "            color:  #000000;\n",
       "        }    #T_51264a15_746b_11eb_9357_18568001074crow10_col8 {\n",
       "            background-color:  #6282ea;\n",
       "            color:  #000000;\n",
       "        }    #T_51264a15_746b_11eb_9357_18568001074crow10_col9 {\n",
       "            background-color:  #a2c1ff;\n",
       "            color:  #000000;\n",
       "        }    #T_51264a15_746b_11eb_9357_18568001074crow10_col10 {\n",
       "            background-color:  #b40426;\n",
       "            color:  #f1f1f1;\n",
       "        }</style><table id=\"T_51264a15_746b_11eb_9357_18568001074c\" ><thead>    <tr>        <th class=\"blank level0\" ></th>        <th class=\"col_heading level0 col0\" >year</th>        <th class=\"col_heading level0 col1\" >bpm</th>        <th class=\"col_heading level0 col2\" >nrgy</th>        <th class=\"col_heading level0 col3\" >dnce</th>        <th class=\"col_heading level0 col4\" >dB</th>        <th class=\"col_heading level0 col5\" >live</th>        <th class=\"col_heading level0 col6\" >val</th>        <th class=\"col_heading level0 col7\" >dur</th>        <th class=\"col_heading level0 col8\" >acous</th>        <th class=\"col_heading level0 col9\" >spch</th>        <th class=\"col_heading level0 col10\" >pop</th>    </tr></thead><tbody>\n",
       "                <tr>\n",
       "                        <th id=\"T_51264a15_746b_11eb_9357_18568001074clevel0_row0\" class=\"row_heading level0 row0\" >year</th>\n",
       "                        <td id=\"T_51264a15_746b_11eb_9357_18568001074crow0_col0\" class=\"data row0 col0\" >1.000000</td>\n",
       "                        <td id=\"T_51264a15_746b_11eb_9357_18568001074crow0_col1\" class=\"data row0 col1\" >-0.020790</td>\n",
       "                        <td id=\"T_51264a15_746b_11eb_9357_18568001074crow0_col2\" class=\"data row0 col2\" >0.195329</td>\n",
       "                        <td id=\"T_51264a15_746b_11eb_9357_18568001074crow0_col3\" class=\"data row0 col3\" >0.273865</td>\n",
       "                        <td id=\"T_51264a15_746b_11eb_9357_18568001074crow0_col4\" class=\"data row0 col4\" >0.422602</td>\n",
       "                        <td id=\"T_51264a15_746b_11eb_9357_18568001074crow0_col5\" class=\"data row0 col5\" >-0.001603</td>\n",
       "                        <td id=\"T_51264a15_746b_11eb_9357_18568001074crow0_col6\" class=\"data row0 col6\" >-0.087055</td>\n",
       "                        <td id=\"T_51264a15_746b_11eb_9357_18568001074crow0_col7\" class=\"data row0 col7\" >-0.099655</td>\n",
       "                        <td id=\"T_51264a15_746b_11eb_9357_18568001074crow0_col8\" class=\"data row0 col8\" >-0.241289</td>\n",
       "                        <td id=\"T_51264a15_746b_11eb_9357_18568001074crow0_col9\" class=\"data row0 col9\" >0.193292</td>\n",
       "                        <td id=\"T_51264a15_746b_11eb_9357_18568001074crow0_col10\" class=\"data row0 col10\" >0.160467</td>\n",
       "            </tr>\n",
       "            <tr>\n",
       "                        <th id=\"T_51264a15_746b_11eb_9357_18568001074clevel0_row1\" class=\"row_heading level0 row1\" >bpm</th>\n",
       "                        <td id=\"T_51264a15_746b_11eb_9357_18568001074crow1_col0\" class=\"data row1 col0\" >-0.020790</td>\n",
       "                        <td id=\"T_51264a15_746b_11eb_9357_18568001074crow1_col1\" class=\"data row1 col1\" >1.000000</td>\n",
       "                        <td id=\"T_51264a15_746b_11eb_9357_18568001074crow1_col2\" class=\"data row1 col2\" >0.179329</td>\n",
       "                        <td id=\"T_51264a15_746b_11eb_9357_18568001074crow1_col3\" class=\"data row1 col3\" >-0.057710</td>\n",
       "                        <td id=\"T_51264a15_746b_11eb_9357_18568001074crow1_col4\" class=\"data row1 col4\" >0.044748</td>\n",
       "                        <td id=\"T_51264a15_746b_11eb_9357_18568001074crow1_col5\" class=\"data row1 col5\" >0.009960</td>\n",
       "                        <td id=\"T_51264a15_746b_11eb_9357_18568001074crow1_col6\" class=\"data row1 col6\" >0.084723</td>\n",
       "                        <td id=\"T_51264a15_746b_11eb_9357_18568001074crow1_col7\" class=\"data row1 col7\" >0.038277</td>\n",
       "                        <td id=\"T_51264a15_746b_11eb_9357_18568001074crow1_col8\" class=\"data row1 col8\" >-0.175530</td>\n",
       "                        <td id=\"T_51264a15_746b_11eb_9357_18568001074crow1_col9\" class=\"data row1 col9\" >0.059116</td>\n",
       "                        <td id=\"T_51264a15_746b_11eb_9357_18568001074crow1_col10\" class=\"data row1 col10\" >0.066558</td>\n",
       "            </tr>\n",
       "            <tr>\n",
       "                        <th id=\"T_51264a15_746b_11eb_9357_18568001074clevel0_row2\" class=\"row_heading level0 row2\" >nrgy</th>\n",
       "                        <td id=\"T_51264a15_746b_11eb_9357_18568001074crow2_col0\" class=\"data row2 col0\" >0.195329</td>\n",
       "                        <td id=\"T_51264a15_746b_11eb_9357_18568001074crow2_col1\" class=\"data row2 col1\" >0.179329</td>\n",
       "                        <td id=\"T_51264a15_746b_11eb_9357_18568001074crow2_col2\" class=\"data row2 col2\" >1.000000</td>\n",
       "                        <td id=\"T_51264a15_746b_11eb_9357_18568001074crow2_col3\" class=\"data row2 col3\" >0.331962</td>\n",
       "                        <td id=\"T_51264a15_746b_11eb_9357_18568001074crow2_col4\" class=\"data row2 col4\" >0.702543</td>\n",
       "                        <td id=\"T_51264a15_746b_11eb_9357_18568001074crow2_col5\" class=\"data row2 col5\" >0.132563</td>\n",
       "                        <td id=\"T_51264a15_746b_11eb_9357_18568001074crow2_col6\" class=\"data row2 col6\" >0.405190</td>\n",
       "                        <td id=\"T_51264a15_746b_11eb_9357_18568001074crow2_col7\" class=\"data row2 col7\" >0.131228</td>\n",
       "                        <td id=\"T_51264a15_746b_11eb_9357_18568001074crow2_col8\" class=\"data row2 col8\" >-0.665900</td>\n",
       "                        <td id=\"T_51264a15_746b_11eb_9357_18568001074crow2_col9\" class=\"data row2 col9\" >0.178491</td>\n",
       "                        <td id=\"T_51264a15_746b_11eb_9357_18568001074crow2_col10\" class=\"data row2 col10\" >0.271798</td>\n",
       "            </tr>\n",
       "            <tr>\n",
       "                        <th id=\"T_51264a15_746b_11eb_9357_18568001074clevel0_row3\" class=\"row_heading level0 row3\" >dnce</th>\n",
       "                        <td id=\"T_51264a15_746b_11eb_9357_18568001074crow3_col0\" class=\"data row3 col0\" >0.273865</td>\n",
       "                        <td id=\"T_51264a15_746b_11eb_9357_18568001074crow3_col1\" class=\"data row3 col1\" >-0.057710</td>\n",
       "                        <td id=\"T_51264a15_746b_11eb_9357_18568001074crow3_col2\" class=\"data row3 col2\" >0.331962</td>\n",
       "                        <td id=\"T_51264a15_746b_11eb_9357_18568001074crow3_col3\" class=\"data row3 col3\" >1.000000</td>\n",
       "                        <td id=\"T_51264a15_746b_11eb_9357_18568001074crow3_col4\" class=\"data row3 col4\" >0.295534</td>\n",
       "                        <td id=\"T_51264a15_746b_11eb_9357_18568001074crow3_col5\" class=\"data row3 col5\" >-0.069818</td>\n",
       "                        <td id=\"T_51264a15_746b_11eb_9357_18568001074crow3_col6\" class=\"data row3 col6\" >0.454714</td>\n",
       "                        <td id=\"T_51264a15_746b_11eb_9357_18568001074crow3_col7\" class=\"data row3 col7\" >0.053011</td>\n",
       "                        <td id=\"T_51264a15_746b_11eb_9357_18568001074crow3_col8\" class=\"data row3 col8\" >-0.382297</td>\n",
       "                        <td id=\"T_51264a15_746b_11eb_9357_18568001074crow3_col9\" class=\"data row3 col9\" >0.207741</td>\n",
       "                        <td id=\"T_51264a15_746b_11eb_9357_18568001074crow3_col10\" class=\"data row3 col10\" >0.249302</td>\n",
       "            </tr>\n",
       "            <tr>\n",
       "                        <th id=\"T_51264a15_746b_11eb_9357_18568001074clevel0_row4\" class=\"row_heading level0 row4\" >dB</th>\n",
       "                        <td id=\"T_51264a15_746b_11eb_9357_18568001074crow4_col0\" class=\"data row4 col0\" >0.422602</td>\n",
       "                        <td id=\"T_51264a15_746b_11eb_9357_18568001074crow4_col1\" class=\"data row4 col1\" >0.044748</td>\n",
       "                        <td id=\"T_51264a15_746b_11eb_9357_18568001074crow4_col2\" class=\"data row4 col2\" >0.702543</td>\n",
       "                        <td id=\"T_51264a15_746b_11eb_9357_18568001074crow4_col3\" class=\"data row4 col3\" >0.295534</td>\n",
       "                        <td id=\"T_51264a15_746b_11eb_9357_18568001074crow4_col4\" class=\"data row4 col4\" >1.000000</td>\n",
       "                        <td id=\"T_51264a15_746b_11eb_9357_18568001074crow4_col5\" class=\"data row4 col5\" >0.083423</td>\n",
       "                        <td id=\"T_51264a15_746b_11eb_9357_18568001074crow4_col6\" class=\"data row4 col6\" >0.136813</td>\n",
       "                        <td id=\"T_51264a15_746b_11eb_9357_18568001074crow4_col7\" class=\"data row4 col7\" >0.026851</td>\n",
       "                        <td id=\"T_51264a15_746b_11eb_9357_18568001074crow4_col8\" class=\"data row4 col8\" >-0.504551</td>\n",
       "                        <td id=\"T_51264a15_746b_11eb_9357_18568001074crow4_col9\" class=\"data row4 col9\" >0.200195</td>\n",
       "                        <td id=\"T_51264a15_746b_11eb_9357_18568001074crow4_col10\" class=\"data row4 col10\" >0.365172</td>\n",
       "            </tr>\n",
       "            <tr>\n",
       "                        <th id=\"T_51264a15_746b_11eb_9357_18568001074clevel0_row5\" class=\"row_heading level0 row5\" >live</th>\n",
       "                        <td id=\"T_51264a15_746b_11eb_9357_18568001074crow5_col0\" class=\"data row5 col0\" >-0.001603</td>\n",
       "                        <td id=\"T_51264a15_746b_11eb_9357_18568001074crow5_col1\" class=\"data row5 col1\" >0.009960</td>\n",
       "                        <td id=\"T_51264a15_746b_11eb_9357_18568001074crow5_col2\" class=\"data row5 col2\" >0.132563</td>\n",
       "                        <td id=\"T_51264a15_746b_11eb_9357_18568001074crow5_col3\" class=\"data row5 col3\" >-0.069818</td>\n",
       "                        <td id=\"T_51264a15_746b_11eb_9357_18568001074crow5_col4\" class=\"data row5 col4\" >0.083423</td>\n",
       "                        <td id=\"T_51264a15_746b_11eb_9357_18568001074crow5_col5\" class=\"data row5 col5\" >1.000000</td>\n",
       "                        <td id=\"T_51264a15_746b_11eb_9357_18568001074crow5_col6\" class=\"data row5 col6\" >0.060542</td>\n",
       "                        <td id=\"T_51264a15_746b_11eb_9357_18568001074crow5_col7\" class=\"data row5 col7\" >-0.067533</td>\n",
       "                        <td id=\"T_51264a15_746b_11eb_9357_18568001074crow5_col8\" class=\"data row5 col8\" >-0.056394</td>\n",
       "                        <td id=\"T_51264a15_746b_11eb_9357_18568001074crow5_col9\" class=\"data row5 col9\" >0.091595</td>\n",
       "                        <td id=\"T_51264a15_746b_11eb_9357_18568001074crow5_col10\" class=\"data row5 col10\" >-0.036505</td>\n",
       "            </tr>\n",
       "            <tr>\n",
       "                        <th id=\"T_51264a15_746b_11eb_9357_18568001074clevel0_row6\" class=\"row_heading level0 row6\" >val</th>\n",
       "                        <td id=\"T_51264a15_746b_11eb_9357_18568001074crow6_col0\" class=\"data row6 col0\" >-0.087055</td>\n",
       "                        <td id=\"T_51264a15_746b_11eb_9357_18568001074crow6_col1\" class=\"data row6 col1\" >0.084723</td>\n",
       "                        <td id=\"T_51264a15_746b_11eb_9357_18568001074crow6_col2\" class=\"data row6 col2\" >0.405190</td>\n",
       "                        <td id=\"T_51264a15_746b_11eb_9357_18568001074crow6_col3\" class=\"data row6 col3\" >0.454714</td>\n",
       "                        <td id=\"T_51264a15_746b_11eb_9357_18568001074crow6_col4\" class=\"data row6 col4\" >0.136813</td>\n",
       "                        <td id=\"T_51264a15_746b_11eb_9357_18568001074crow6_col5\" class=\"data row6 col5\" >0.060542</td>\n",
       "                        <td id=\"T_51264a15_746b_11eb_9357_18568001074crow6_col6\" class=\"data row6 col6\" >1.000000</td>\n",
       "                        <td id=\"T_51264a15_746b_11eb_9357_18568001074crow6_col7\" class=\"data row6 col7\" >-0.118664</td>\n",
       "                        <td id=\"T_51264a15_746b_11eb_9357_18568001074crow6_col8\" class=\"data row6 col8\" >-0.196375</td>\n",
       "                        <td id=\"T_51264a15_746b_11eb_9357_18568001074crow6_col9\" class=\"data row6 col9\" >0.053817</td>\n",
       "                        <td id=\"T_51264a15_746b_11eb_9357_18568001074crow6_col10\" class=\"data row6 col10\" >-0.102418</td>\n",
       "            </tr>\n",
       "            <tr>\n",
       "                        <th id=\"T_51264a15_746b_11eb_9357_18568001074clevel0_row7\" class=\"row_heading level0 row7\" >dur</th>\n",
       "                        <td id=\"T_51264a15_746b_11eb_9357_18568001074crow7_col0\" class=\"data row7 col0\" >-0.099655</td>\n",
       "                        <td id=\"T_51264a15_746b_11eb_9357_18568001074crow7_col1\" class=\"data row7 col1\" >0.038277</td>\n",
       "                        <td id=\"T_51264a15_746b_11eb_9357_18568001074crow7_col2\" class=\"data row7 col2\" >0.131228</td>\n",
       "                        <td id=\"T_51264a15_746b_11eb_9357_18568001074crow7_col3\" class=\"data row7 col3\" >0.053011</td>\n",
       "                        <td id=\"T_51264a15_746b_11eb_9357_18568001074crow7_col4\" class=\"data row7 col4\" >0.026851</td>\n",
       "                        <td id=\"T_51264a15_746b_11eb_9357_18568001074crow7_col5\" class=\"data row7 col5\" >-0.067533</td>\n",
       "                        <td id=\"T_51264a15_746b_11eb_9357_18568001074crow7_col6\" class=\"data row7 col6\" >-0.118664</td>\n",
       "                        <td id=\"T_51264a15_746b_11eb_9357_18568001074crow7_col7\" class=\"data row7 col7\" >1.000000</td>\n",
       "                        <td id=\"T_51264a15_746b_11eb_9357_18568001074crow7_col8\" class=\"data row7 col8\" >-0.227505</td>\n",
       "                        <td id=\"T_51264a15_746b_11eb_9357_18568001074crow7_col9\" class=\"data row7 col9\" >0.045265</td>\n",
       "                        <td id=\"T_51264a15_746b_11eb_9357_18568001074crow7_col10\" class=\"data row7 col10\" >0.280501</td>\n",
       "            </tr>\n",
       "            <tr>\n",
       "                        <th id=\"T_51264a15_746b_11eb_9357_18568001074clevel0_row8\" class=\"row_heading level0 row8\" >acous</th>\n",
       "                        <td id=\"T_51264a15_746b_11eb_9357_18568001074crow8_col0\" class=\"data row8 col0\" >-0.241289</td>\n",
       "                        <td id=\"T_51264a15_746b_11eb_9357_18568001074crow8_col1\" class=\"data row8 col1\" >-0.175530</td>\n",
       "                        <td id=\"T_51264a15_746b_11eb_9357_18568001074crow8_col2\" class=\"data row8 col2\" >-0.665900</td>\n",
       "                        <td id=\"T_51264a15_746b_11eb_9357_18568001074crow8_col3\" class=\"data row8 col3\" >-0.382297</td>\n",
       "                        <td id=\"T_51264a15_746b_11eb_9357_18568001074crow8_col4\" class=\"data row8 col4\" >-0.504551</td>\n",
       "                        <td id=\"T_51264a15_746b_11eb_9357_18568001074crow8_col5\" class=\"data row8 col5\" >-0.056394</td>\n",
       "                        <td id=\"T_51264a15_746b_11eb_9357_18568001074crow8_col6\" class=\"data row8 col6\" >-0.196375</td>\n",
       "                        <td id=\"T_51264a15_746b_11eb_9357_18568001074crow8_col7\" class=\"data row8 col7\" >-0.227505</td>\n",
       "                        <td id=\"T_51264a15_746b_11eb_9357_18568001074crow8_col8\" class=\"data row8 col8\" >1.000000</td>\n",
       "                        <td id=\"T_51264a15_746b_11eb_9357_18568001074crow8_col9\" class=\"data row8 col9\" >-0.172820</td>\n",
       "                        <td id=\"T_51264a15_746b_11eb_9357_18568001074crow8_col10\" class=\"data row8 col10\" >-0.455239</td>\n",
       "            </tr>\n",
       "            <tr>\n",
       "                        <th id=\"T_51264a15_746b_11eb_9357_18568001074clevel0_row9\" class=\"row_heading level0 row9\" >spch</th>\n",
       "                        <td id=\"T_51264a15_746b_11eb_9357_18568001074crow9_col0\" class=\"data row9 col0\" >0.193292</td>\n",
       "                        <td id=\"T_51264a15_746b_11eb_9357_18568001074crow9_col1\" class=\"data row9 col1\" >0.059116</td>\n",
       "                        <td id=\"T_51264a15_746b_11eb_9357_18568001074crow9_col2\" class=\"data row9 col2\" >0.178491</td>\n",
       "                        <td id=\"T_51264a15_746b_11eb_9357_18568001074crow9_col3\" class=\"data row9 col3\" >0.207741</td>\n",
       "                        <td id=\"T_51264a15_746b_11eb_9357_18568001074crow9_col4\" class=\"data row9 col4\" >0.200195</td>\n",
       "                        <td id=\"T_51264a15_746b_11eb_9357_18568001074crow9_col5\" class=\"data row9 col5\" >0.091595</td>\n",
       "                        <td id=\"T_51264a15_746b_11eb_9357_18568001074crow9_col6\" class=\"data row9 col6\" >0.053817</td>\n",
       "                        <td id=\"T_51264a15_746b_11eb_9357_18568001074crow9_col7\" class=\"data row9 col7\" >0.045265</td>\n",
       "                        <td id=\"T_51264a15_746b_11eb_9357_18568001074crow9_col8\" class=\"data row9 col8\" >-0.172820</td>\n",
       "                        <td id=\"T_51264a15_746b_11eb_9357_18568001074crow9_col9\" class=\"data row9 col9\" >1.000000</td>\n",
       "                        <td id=\"T_51264a15_746b_11eb_9357_18568001074crow9_col10\" class=\"data row9 col10\" >0.192929</td>\n",
       "            </tr>\n",
       "            <tr>\n",
       "                        <th id=\"T_51264a15_746b_11eb_9357_18568001074clevel0_row10\" class=\"row_heading level0 row10\" >pop</th>\n",
       "                        <td id=\"T_51264a15_746b_11eb_9357_18568001074crow10_col0\" class=\"data row10 col0\" >0.160467</td>\n",
       "                        <td id=\"T_51264a15_746b_11eb_9357_18568001074crow10_col1\" class=\"data row10 col1\" >0.066558</td>\n",
       "                        <td id=\"T_51264a15_746b_11eb_9357_18568001074crow10_col2\" class=\"data row10 col2\" >0.271798</td>\n",
       "                        <td id=\"T_51264a15_746b_11eb_9357_18568001074crow10_col3\" class=\"data row10 col3\" >0.249302</td>\n",
       "                        <td id=\"T_51264a15_746b_11eb_9357_18568001074crow10_col4\" class=\"data row10 col4\" >0.365172</td>\n",
       "                        <td id=\"T_51264a15_746b_11eb_9357_18568001074crow10_col5\" class=\"data row10 col5\" >-0.036505</td>\n",
       "                        <td id=\"T_51264a15_746b_11eb_9357_18568001074crow10_col6\" class=\"data row10 col6\" >-0.102418</td>\n",
       "                        <td id=\"T_51264a15_746b_11eb_9357_18568001074crow10_col7\" class=\"data row10 col7\" >0.280501</td>\n",
       "                        <td id=\"T_51264a15_746b_11eb_9357_18568001074crow10_col8\" class=\"data row10 col8\" >-0.455239</td>\n",
       "                        <td id=\"T_51264a15_746b_11eb_9357_18568001074crow10_col9\" class=\"data row10 col9\" >0.192929</td>\n",
       "                        <td id=\"T_51264a15_746b_11eb_9357_18568001074crow10_col10\" class=\"data row10 col10\" >1.000000</td>\n",
       "            </tr>\n",
       "    </tbody></table>"
      ],
      "text/plain": [
       "<pandas.io.formats.style.Styler at 0x2a847a8a5e0>"
      ]
     },
     "execution_count": 5,
     "metadata": {},
     "output_type": "execute_result"
    }
   ],
   "source": [
    "combine_spot = combine_spot.corr()\n",
    "combine_spot.style.background_gradient(cmap='coolwarm')"
   ]
  },
  {
   "cell_type": "code",
   "execution_count": 6,
   "metadata": {},
   "outputs": [],
   "source": [
    "sample_nas = train[train.isnull().any(axis=1)].head()"
   ]
  },
  {
   "cell_type": "code",
   "execution_count": 7,
   "metadata": {},
   "outputs": [],
   "source": [
    "#drop rows with missing values and replace NA in test as 'adult standard'\n",
    "train = train.dropna()"
   ]
  },
  {
   "cell_type": "code",
   "execution_count": 8,
   "metadata": {},
   "outputs": [
    {
     "data": {
      "image/png": "[encoded data removed]",
      "text/plain": [
       "<Figure size 1440x576 with 12 Axes>"
      ]
     },
     "metadata": {
      "needs_background": "light"
     },
     "output_type": "display_data"
    }
   ],
   "source": [
    "# Plot histogram to check the distrbution of the data of each variable and compare it with the test data.\n",
    "# We would like to verify that the distribution of both sets are similar so that the learning from the train set can be applied to the test set.   \n",
    "%matplotlib inline\n",
    "train.drop(['Id','pop'],axis=1).hist(bins=50, figsize=(20,8))\n",
    "plt.show()"
   ]
  },
  {
   "cell_type": "code",
   "execution_count": null,
   "metadata": {},
   "outputs": [],
   "source": [
    "%matplotlib inline\n",
    "test.drop(['Id'],axis=1).hist(bins=50, figsize=(20,8))\n",
    "plt.show()\n",
    "#test and train sets have similar distribution"
   ]
  },
  {
   "cell_type": "code",
   "execution_count": 9,
   "metadata": {},
   "outputs": [],
   "source": [
    "# Define X and Y in train to seperate the dependent and independent variables to build the model and upload predictions\n",
    "X_train = train.iloc[:,2:14] # Remove Id and title column\n",
    "Y_train = train.iloc[:,14:]"
   ]
  },
  {
   "cell_type": "code",
   "execution_count": 10,
   "metadata": {},
   "outputs": [],
   "source": [
    "# Drop artist in train because the data is sparse and have no influence in improving our test predictions\n",
    "X_train= X_train.drop(['artist'],axis=1)"
   ]
  },
  {
   "cell_type": "code",
   "execution_count": 11,
   "metadata": {},
   "outputs": [],
   "source": [
    "# rename top genre\n",
    "X_train.rename(columns={'top genre':'top_genre'}, inplace=True)\n",
    "test.rename(columns={'top genre':'top_genre'}, inplace=True)"
   ]
  },
  {
   "cell_type": "code",
   "execution_count": 12,
   "metadata": {},
   "outputs": [],
   "source": [
    "# One-Hot top_genre\n",
    "# We decided to use one-hot encoding for categorical data as some machine learning algorithms require all the data to be numeric.\n",
    "# Since top_genre is categorical, we will encode this with one hot encoding over integer-encoding because there is no ordial relationship with the data. \n",
    "train_top_genre = X_train['top_genre']\n",
    "genre_cat_encoded, genre_cat_name = train_top_genre.factorize()\n",
    "#Train encoder\n",
    "top_genreenc = OneHotEncoder(handle_unknown = 'ignore')\n",
    "top_genreenc.fit(genre_cat_encoded.reshape(-1,1))\n",
    "#Transform data\n",
    "top_genre_enc_data = pd.DataFrame(top_genreenc.transform(genre_cat_encoded.reshape(-1,1)).toarray())\n",
    "top_genre_enc_data.columns = genre_cat_name\n",
    "top_genre_enc_data.index = X_train.index"
   ]
  },
  {
   "cell_type": "code",
   "execution_count": 13,
   "metadata": {},
   "outputs": [],
   "source": [
    "# Separate categorical and numerical attributes so that we can scale the numerical variables for our SVM models. \n",
    "# Scaling is not performed in decision trees and random forest because they do not use distance measures.\n",
    "cat_attribs = ['top_genre']\n",
    "X_train_num = X_train.drop(cat_attribs, axis=1)\n",
    "num_attribs = list(X_train_num)"
   ]
  },
  {
   "cell_type": "code",
   "execution_count": 14,
   "metadata": {},
   "outputs": [],
   "source": [
    "#Merged categorical and numerical data together in order to produce the final complete train data.\n",
    "X_train_prepared = X_train_num.join(top_genre_enc_data)"
   ]
  },
  {
   "cell_type": "code",
   "execution_count": 15,
   "metadata": {},
   "outputs": [
    {
     "data": {
      "text/html": [
       "<div>\n",
       "<style scoped>\n",
       "    .dataframe tbody tr th:only-of-type {\n",
       "        vertical-align: middle;\n",
       "    }\n",
       "\n",
       "    .dataframe tbody tr th {\n",
       "        vertical-align: top;\n",
       "    }\n",
       "\n",
       "    .dataframe thead th {\n",
       "        text-align: right;\n",
       "    }\n",
       "</style>\n",
       "<table border=\"1\" class=\"dataframe\">\n",
       "  <thead>\n",
       "    <tr style=\"text-align: right;\">\n",
       "      <th></th>\n",
       "      <th>artist</th>\n",
       "      <th>top_genre</th>\n",
       "      <th>year</th>\n",
       "      <th>bpm</th>\n",
       "      <th>nrgy</th>\n",
       "      <th>dnce</th>\n",
       "      <th>dB</th>\n",
       "      <th>live</th>\n",
       "      <th>val</th>\n",
       "      <th>dur</th>\n",
       "      <th>acous</th>\n",
       "      <th>spch</th>\n",
       "    </tr>\n",
       "  </thead>\n",
       "  <tbody>\n",
       "    <tr>\n",
       "      <th>66</th>\n",
       "      <td>U.S.A. For Africa</td>\n",
       "      <td>NaN</td>\n",
       "      <td>1985</td>\n",
       "      <td>73</td>\n",
       "      <td>45</td>\n",
       "      <td>53</td>\n",
       "      <td>-15</td>\n",
       "      <td>7</td>\n",
       "      <td>29</td>\n",
       "      <td>427</td>\n",
       "      <td>19</td>\n",
       "      <td>4</td>\n",
       "    </tr>\n",
       "  </tbody>\n",
       "</table>\n",
       "</div>"
      ],
      "text/plain": [
       "               artist top_genre  year  bpm  nrgy  dnce  dB  live  val  dur  \\\n",
       "66  U.S.A. For Africa       NaN  1985   73    45    53 -15     7   29  427   \n",
       "\n",
       "    acous  spch  \n",
       "66     19     4  "
      ]
     },
     "execution_count": 15,
     "metadata": {},
     "output_type": "execute_result"
    }
   ],
   "source": [
    "# Checked for NA values in test set as they would prohibit the model from running. \n",
    "X_test = test.iloc[:,2:14] # Remove Id and title column\n",
    "X_test[X_test.isnull().any(axis=1)].head()"
   ]
  },
  {
   "cell_type": "code",
   "execution_count": 16,
   "metadata": {},
   "outputs": [
    {
     "data": {
      "text/plain": [
       "adult standards       68\n",
       "album rock            66\n",
       "dance pop             61\n",
       "brill building pop    16\n",
       "glam rock             16\n",
       "                      ..\n",
       "country                1\n",
       "italian pop            1\n",
       "alternative rock       1\n",
       "yodeling               1\n",
       "acoustic blues         1\n",
       "Name: top genre, Length: 86, dtype: int64"
      ]
     },
     "execution_count": 16,
     "metadata": {},
     "output_type": "execute_result"
    }
   ],
   "source": [
    "# We checked for the top_genre with the highest frequency and would replace NA with the one appears most.\n",
    "train[\"top genre\"].value_counts()"
   ]
  },
  {
   "cell_type": "code",
   "execution_count": 17,
   "metadata": {},
   "outputs": [
    {
     "data": {
      "text/plain": [
       "artist       U.S.A. For Africa\n",
       "top_genre      adult standards\n",
       "year                      1985\n",
       "bpm                         73\n",
       "nrgy                        45\n",
       "dnce                        53\n",
       "dB                         -15\n",
       "live                         7\n",
       "val                         29\n",
       "dur                        427\n",
       "acous                       19\n",
       "spch                         4\n",
       "Name: 66, dtype: object"
      ]
     },
     "execution_count": 17,
     "metadata": {},
     "output_type": "execute_result"
    }
   ],
   "source": [
    "# Replace the NA from index 66 in test set as'adult standards' because it appears the most in the train set.\n",
    "# By replacing the NA, instead of removing the observation, we reserved the total number of rows which allowed Kaggle to evaluate our predictions\n",
    "X_test.iloc[66,1] = 'adult standards'\n",
    "X_test.iloc[66,:] "
   ]
  },
  {
   "cell_type": "code",
   "execution_count": 18,
   "metadata": {},
   "outputs": [],
   "source": [
    "# Since the artist column has been dropped from the train set, we perform the same step in the test set.\n",
    "X_test= X_test.drop(['artist'],axis=1)"
   ]
  },
  {
   "cell_type": "code",
   "execution_count": 19,
   "metadata": {},
   "outputs": [],
   "source": [
    "#Transform top_genre in test data\n",
    "test_top_genre = pd.DataFrame(X_test['top_genre'])\n",
    "# We use the encoder trained on train set to transform the test set\n",
    "test_top_genre_enc_data = pd.DataFrame(top_genreenc.transform(test_top_genre).toarray())\n",
    "test_top_genre_enc_data.columns = genre_cat_name\n",
    "test_top_genre_enc_data.index = X_test.index"
   ]
  },
  {
   "cell_type": "code",
   "execution_count": 20,
   "metadata": {},
   "outputs": [],
   "source": [
    "# We seperated the numerical variables in the train set to scale them for SVM models. This same step is done for the test set.\n",
    "X_test_num = X_test.drop(cat_attribs, axis=1)\n",
    "X_test_prepared = X_test_num.join(test_top_genre_enc_data)"
   ]
  },
  {
   "cell_type": "code",
   "execution_count": 21,
   "metadata": {},
   "outputs": [],
   "source": [
    "# Multicollinearity between variables could negatively impact the final model. It is important to remove dependent variables with a weak relationship with the independent varaible and other variables which are highly correlated with each other. Drop dB and nrgy because they are highly correlated with each other.\n",
    "X_train_prepared= X_train_prepared.drop(['dB','nrgy','live','bpm'],axis=1)\n",
    "X_test_prepared= X_test_prepared.drop(['dB','nrgy','live','bpm'],axis=1)"
   ]
  },
  {
   "cell_type": "code",
   "execution_count": 22,
   "metadata": {},
   "outputs": [],
   "source": [
    "# We decided to use the decision tree because it yields the lowest RMSE score on the test set, compared with the SVM model. It is also easier to visualize and quantify a decision tree with fewer number of tuning hyperparameter."
   ]
  },
  {
   "cell_type": "code",
   "execution_count": 23,
   "metadata": {},
   "outputs": [],
   "source": [
    "# Calculate the RMSE and accuracy score for train set. This helps us determine the starting point of testing the depth of the tree\n",
    "from sklearn.metrics import r2_score, mean_squared_error\n",
    "import sklearn.metrics as metrics\n",
    "import seaborn as sns\n",
    "from sklearn.tree import DecisionTreeRegressor \n",
    "train_RMSE= []\n",
    "train_acc= []\n",
    "for depth in range(1,26):\n",
    "    tree_reg = DecisionTreeRegressor(max_depth=depth,random_state=0)\n",
    "    tree_reg.fit(X_train_prepared, Y_train)\n",
    "    pred_train=tree_reg.predict(X_train_prepared)   \n",
    "    train_acc.append(tree_reg.score(X_train_prepared, Y_train))\n",
    "    train_RMSE.append(np.sqrt(metrics.mean_absolute_error(Y_train, pred_train)))"
   ]
  },
  {
   "cell_type": "code",
   "execution_count": 24,
   "metadata": {},
   "outputs": [],
   "source": [
    "# Build a table with RMSE and accuracy score for train set\n",
    "train_RMSE_acc_table= pd.DataFrame({'max_depth':range(1,26), 'train_RMSE':train_RMSE, 'train_acc':train_acc})"
   ]
  },
  {
   "cell_type": "code",
   "execution_count": 25,
   "metadata": {},
   "outputs": [
    {
     "data": {
      "text/plain": [
       "Text(0, 0.5, 'performance')"
      ]
     },
     "execution_count": 25,
     "metadata": {},
     "output_type": "execute_result"
    },
    {
     "data": {
      "image/png": "[encoded data removed]",
      "text/plain": [
       "<Figure size 432x288 with 1 Axes>"
      ]
     },
     "metadata": {
      "needs_background": "light"
     },
     "output_type": "display_data"
    }
   ],
   "source": [
    "# Plot RMSE and accuracy score for train set\n",
    "# The RMSE decreases at an equal constant rate as the depth size increases. \n",
    "# The accuracy score starts to level off after depth= 8, so we started by training the model with it and decreased the depth to test different results\n",
    "train_RMSE_acc_table.plot('max_depth', y=['train_RMSE','train_acc'],kind='line',marker='o')\n",
    "plt.xlabel('Depth of tree')\n",
    "plt.ylabel('performance')"
   ]
  },
  {
   "cell_type": "code",
   "execution_count": 26,
   "metadata": {},
   "outputs": [
    {
     "data": {
      "text/plain": [
       "DecisionTreeRegressor(max_depth=2, random_state=0)"
      ]
     },
     "execution_count": 26,
     "metadata": {},
     "output_type": "execute_result"
    }
   ],
   "source": [
    "# We assigned different max_depths to the decision tree regression in to produce the best model. We finally fixed the max_depth=2. \n",
    "from sklearn.tree import DecisionTreeRegressor \n",
    "tree_reg = DecisionTreeRegressor(max_depth=2,random_state=0) # random_state set to 0 to keep output constant\n",
    "tree_reg.fit(X_train_prepared, Y_train)"
   ]
  },
  {
   "cell_type": "code",
   "execution_count": 27,
   "metadata": {},
   "outputs": [],
   "source": [
    "# Train predictions\n",
    "pred_train=tree_reg.predict(X_train_prepared)"
   ]
  },
  {
   "cell_type": "code",
   "execution_count": 28,
   "metadata": {},
   "outputs": [],
   "source": [
    "# Test predictions\n",
    "pred = pd.DataFrame(tree_reg.predict(X_test_prepared))"
   ]
  },
  {
   "cell_type": "code",
   "execution_count": 29,
   "metadata": {},
   "outputs": [
    {
     "data": {
      "text/plain": [
       "2.8904381785882425"
      ]
     },
     "execution_count": 29,
     "metadata": {},
     "output_type": "execute_result"
    }
   ],
   "source": [
    "# Print RMSE score for train set with max_dept=2\n",
    "train_RMSE_dp2= np.sqrt(metrics.mean_absolute_error(Y_train, pred_train))\n",
    "train_RMSE_dp2"
   ]
  },
  {
   "cell_type": "code",
   "execution_count": 30,
   "metadata": {},
   "outputs": [],
   "source": [
    "# Specify column names for plotting tree\n",
    "fn = X_train_prepared.columns\n",
    "tn = Y_train.columns"
   ]
  },
  {
   "cell_type": "code",
   "execution_count": 31,
   "metadata": {},
   "outputs": [
    {
     "data": {
      "image/png": "[encoded data removed]",
      "text/plain": [
       "<Figure size 1800x360 with 1 Axes>"
      ]
     },
     "metadata": {
      "needs_background": "light"
     },
     "output_type": "display_data"
    }
   ],
   "source": [
    "#  Produce a decision tree to assess the performance of the model and get an indication if more regularisation is required.\n",
    "from sklearn.tree import plot_tree\n",
    "plt.figure(figsize=(25,5))\n",
    "tree = plot_tree(tree_reg, feature_names=fn, class_names=tn, filled=True, rounded=True, fontsize=14)"
   ]
  },
  {
   "cell_type": "code",
   "execution_count": 32,
   "metadata": {},
   "outputs": [],
   "source": [
    "# Prepare predictions to submit\n",
    "pred.columns = ['pop'] #Rename the prediction column\n",
    "test_ids = pd.DataFrame(test['Id']) #Get ids from the test data\n",
    "pred = test_ids.join(pred) #Merge predictions to ids\n",
    "pred.reset_index(drop=True, inplace=True) #Remove index from the dataframe because Kaggle expects only 2 columns, ids and pop"
   ]
  },
  {
   "cell_type": "code",
   "execution_count": 33,
   "metadata": {},
   "outputs": [],
   "source": [
    "# Export data to csv for uploading to Kaggle\n",
    "fn =str(\"DT Reg Preds year dp2_3\") # file name\n",
    "pred.to_csv(fn + '.csv',index = False)"
   ]
  },
  {
   "cell_type": "code",
   "execution_count": 34,
   "metadata": {},
   "outputs": [],
   "source": [
    "#The best decision tree regression model had max_depth=2. This produced the lowest RMSE score in the test set of 9.390, in Kaggle under name CS986-Group 7, and train set of 2.89.\n",
    "# We managed to acheive this score by adapting previous models, by taking into consideration multicollinearity, regularisation and dropped the variables which had a weak relationship with pop such as bpm and live. More specifically, the RMSE score improved when we reduced the max_depth of the model. "
   ]
  },
  {
   "cell_type": "code",
   "execution_count": 35,
   "metadata": {},
   "outputs": [],
   "source": [
    "# Set num_attribs2 for SVM scaling\n",
    "num_attribs2 = ['year', 'dnce', 'val', 'dur', 'acous', 'spch']"
   ]
  },
  {
   "cell_type": "code",
   "execution_count": 36,
   "metadata": {},
   "outputs": [],
   "source": [
    "# Run this to scale the data (SVM)\n",
    "from sklearn import preprocessing\n",
    "std_scaler = preprocessing.StandardScaler()\n",
    "X_train_prepared[num_attribs2] = std_scaler.fit_transform(X_train_prepared[num_attribs2])\n",
    "X_test_prepared[num_attribs2] = std_scaler.fit_transform(X_test_prepared[num_attribs2])"
   ]
  },
  {
   "cell_type": "code",
   "execution_count": 37,
   "metadata": {},
   "outputs": [
    {
     "name": "stderr",
     "output_type": "stream",
     "text": [
      "C:\\Users\\happy\\anaconda3\\lib\\site-packages\\sklearn\\utils\\validation.py:73: DataConversionWarning: A column-vector y was passed when a 1d array was expected. Please change the shape of y to (n_samples, ), for example using ravel().\n",
      "  return f(**kwargs)\n"
     ]
    }
   ],
   "source": [
    "# Build the SVM model\n",
    "from sklearn.svm import SVR\n",
    "svr_rbf = SVR(kernel='rbf', C=10, gamma=0.1, epsilon=1)\n",
    "svr_rbf.fit(X_train_prepared, Y_train)\n",
    "spotify_poly_train_preds = svr_rbf.predict(X_train_prepared)"
   ]
  },
  {
   "cell_type": "code",
   "execution_count": 38,
   "metadata": {},
   "outputs": [
    {
     "data": {
      "image/png": "[encoded data removed]",
      "text/plain": [
       "<Figure size 576x288 with 1 Axes>"
      ]
     },
     "metadata": {
      "needs_background": "light"
     },
     "output_type": "display_data"
    }
   ],
   "source": [
    "plt.figure(figsize=(8,4))\n",
    "plt.scatter(Y_train, spotify_poly_train_preds, color='red', label = 'Data')\n",
    "plt.plot(Y_train, svr_rbf.predict(X_train_prepared), color = 'blue', label= 'polynomialrbf model')\n",
    "plt.legend()\n",
    "plt.show()"
   ]
  },
  {
   "cell_type": "code",
   "execution_count": null,
   "metadata": {},
   "outputs": [],
   "source": [
    "# The SVR models that we applied didnt perform as well as the decision tree regression model. It only achieved a score of 11.8673 Kaggle RMSE score. \n",
    "# This was becuase it was difficult to imporve the model and tune the hyper parameters based on the lin rmse scores and tables.\n",
    "# The graph above shows that it was difficult to determine whether the model overfitted or underfitted the data. "
   ]
  }
 ],
 "metadata": {
  "kernelspec": {
   "display_name": "Python 3",
   "language": "python",
   "name": "python3"
  },
  "language_info": {
   "codemirror_mode": {
    "name": "ipython",
    "version": 3
   },
   "file_extension": ".py",
   "mimetype": "text/x-python",
   "name": "python",
   "nbconvert_exporter": "python",
   "pygments_lexer": "ipython3",
   "version": "3.8.3"
  }
 },
 "nbformat": 4,
 "nbformat_minor": 4
}
